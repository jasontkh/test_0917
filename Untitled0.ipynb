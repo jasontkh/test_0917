{
 "cells": [
  {
   "cell_type": "code",
   "execution_count": 2,
   "metadata": {
    "colab": {
     "base_uri": "https://localhost:8080/"
    },
    "executionInfo": {
     "elapsed": 303,
     "status": "ok",
     "timestamp": 1693724231988,
     "user": {
      "displayName": "Jason at DG Innotech",
      "userId": "00119387801642931205"
     },
     "user_tz": -480
    },
    "id": "Vrs3gWmczph5",
    "outputId": "4be19e87-22da-4a26-9fa1-88a1b3c64242"
   },
   "outputs": [
    {
     "name": "stdout",
     "output_type": "stream",
     "text": [
      "\\  /\n",
      " \\/\n",
      " /\\\n",
      "/  \\\n"
     ]
    }
   ],
   "source": [
    "n = 4\n",
    "\n",
    "for i in range(n//2):\n",
    "    print((\" \" * i) + \"\\\\\" + \" \" * (n-2-2*i) + \"/\")\n",
    "\n",
    "for i in range(n//2):\n",
    "    print((\" \" * (n//2 -i -1)) + \"/\" + (\" \" * 2 * i) + \"\\\\\")"
   ]
  },
  {
   "cell_type": "code",
   "execution_count": null,
   "metadata": {
    "id": "k2xPolN0z-qZ"
   },
   "outputs": [],
   "source": []
  }
 ],
 "metadata": {
  "colab": {
   "authorship_tag": "ABX9TyPhwN7GQVvIjk9O5xgnzy9x",
   "provenance": []
  },
  "kernelspec": {
   "display_name": "Python 3 (ipykernel)",
   "language": "python",
   "name": "python3"
  },
  "language_info": {
   "codemirror_mode": {
    "name": "ipython",
    "version": 3
   },
   "file_extension": ".py",
   "mimetype": "text/x-python",
   "name": "python",
   "nbconvert_exporter": "python",
   "pygments_lexer": "ipython3",
   "version": "3.10.12"
  }
 },
 "nbformat": 4,
 "nbformat_minor": 4
}
